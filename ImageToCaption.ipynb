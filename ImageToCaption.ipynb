{
 "cells": [
  {
   "cell_type": "code",
   "execution_count": null,
   "id": "fb75a384-b6a1-4a89-943e-8ed2619ee713",
   "metadata": {},
   "outputs": [],
   "source": [
    "!pip install requests gradio pillow"
   ]
  },
  {
   "cell_type": "code",
   "execution_count": 1,
   "id": "75739280-69d9-43f2-91ed-aabc5d3c6791",
   "metadata": {},
   "outputs": [],
   "source": [
    "with open(\".gitignore\", \"w\") as f:\n",
    "    f.write(\".env\\n\")\n",
    "    f.write(\"*.pyc\\n\")\n",
    "    f.write(\"__pycache__/\\n\")"
   ]
  },
  {
   "cell_type": "code",
   "execution_count": null,
   "id": "8393d74b-fead-42cb-806e-c392d8575b84",
   "metadata": {},
   "outputs": [],
   "source": [
    "import requests\n",
    "from PIL import Image\n",
    "import io \n",
    "import os\n",
    "from dotenv import load_dotenv\n",
    "\n",
    "load_dotenv()\n",
    "API_KEY = os.getenv(\"HF_API_KEY\")\n",
    "API_URL = \"https://api-inference.huggingface.co/models/Salesforce/blip-image-captioning-base\"\n",
    "headers = {\"Authorization\": f\"Bearer {API_KEY}\"}\n",
    "\n",
    "def query_blip(image_path):\n",
    "    with open(image_path, \"rb\") as f:\n",
    "        data = f.read()\n",
    "    response = requests.post(API_URL, headers=headers, data=data)\n",
    "    result = response.json()\n",
    "    return result\n",
    "\n",
    "sample_image = r\"C:\\Users\\aryan\\OneDrive\\Pictures\\AnimeWallpaper\\1304790 (1) (1) (1) (1) (1).png\"\n",
    "print(query_blip(sample_image))"
   ]
  },
  {
   "cell_type": "code",
   "execution_count": null,
   "id": "fbc39b4d-ab40-4afd-9e30-d0f958037bee",
   "metadata": {},
   "outputs": [],
   "source": [
    "from dotenv import load_dotenv\n",
    "import os\n",
    "import requests\n",
    "import gradio as gr\n",
    "import io\n",
    "from PIL import Image\n",
    "import numpy as np\n",
    "\n",
    "load_dotenv()\n",
    "API_KEY = os.getenv(\"HF_API_KEY\")\n",
    "API_URL = \"https://api-inference.huggingface.co/models/Salesforce/blip-image-captioning-base\"\n",
    "headers = {\"Authorization\": f\"Bearer {API_KEY}\"}\n",
    "\n",
    "def generate_caption(image):\n",
    "    if isinstance(image, str):\n",
    "        image = Image.open(image)\n",
    "    elif isinstance(image, np.ndarray):\n",
    "        image = Image.fromarray(image)\n",
    "    image = image.convert(\"RGB\")\n",
    "    buf = io.BytesIO()\n",
    "    image.save(buf, format=\"JPEG\")\n",
    "    data = buf.getvalue()\n",
    "    response = requests.post(API_URL, headers=headers, data=data)\n",
    "    result = response.json()\n",
    "    if isinstance(result, dict) and \"error\" in result:\n",
    "        return \"Error: \" + result[\"error\"]\n",
    "    return result[0][\"generated_text\"]\n",
    "\n",
    "iface = gr.Interface(\n",
    "    fn=generate_caption,\n",
    "    inputs=gr.Image(type=\"pil\"),\n",
    "    outputs=\"text\",\n",
    "    title=\"Image Caption Generator\",\n",
    "    description=\"Upload an image to generate a caption using the BLIP API.\"\n",
    ")\n",
    "\n",
    "iface.launch(share=True)"
   ]
  },
  {
   "cell_type": "code",
   "execution_count": null,
   "id": "612f99a5-410a-4bb1-9f89-e6ca6a40527c",
   "metadata": {},
   "outputs": [],
   "source": []
  }
 ],
 "metadata": {
  "kernelspec": {
   "display_name": "Python 3 (ipykernel)",
   "language": "python",
   "name": "python3"
  },
  "language_info": {
   "codemirror_mode": {
    "name": "ipython",
    "version": 3
   },
   "file_extension": ".py",
   "mimetype": "text/x-python",
   "name": "python",
   "nbconvert_exporter": "python",
   "pygments_lexer": "ipython3",
   "version": "3.12.3"
  }
 },
 "nbformat": 4,
 "nbformat_minor": 5
}
